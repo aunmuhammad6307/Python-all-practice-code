{
 "cells": [
  {
   "cell_type": "code",
   "execution_count": 10,
   "id": "freelance-walnut",
   "metadata": {},
   "outputs": [
    {
     "name": "stdout",
     "output_type": "stream",
     "text": [
      "My name is Aun Muhammad. \n"
     ]
    }
   ],
   "source": [
    "a = \"My name is Aun Muhammad. My father name is Muhammad Azam Raza. I'm 20 years old.\"\n",
    "print(a[0:25])"
   ]
  },
  {
   "cell_type": "code",
   "execution_count": 13,
   "id": "seven-stretch",
   "metadata": {},
   "outputs": [
    {
     "name": "stdout",
     "output_type": "stream",
     "text": [
      "My father name is Muhammad Azam Raza. \n"
     ]
    }
   ],
   "source": [
    "a = \"My name is Aun Muhammad. My father name is Muhammad Azam Raza. I'm 20 years old.\"\n",
    "print(a[25:63])"
   ]
  },
  {
   "cell_type": "code",
   "execution_count": 15,
   "id": "liable-positive",
   "metadata": {},
   "outputs": [
    {
     "name": "stdout",
     "output_type": "stream",
     "text": [
      "I'm 20 years old.\n"
     ]
    }
   ],
   "source": [
    "a = \"My name is Aun Muhammad. My father name is Muhammad Azam Raza. I'm 20 years old.\"\n",
    "print(a[63:90])"
   ]
  },
  {
   "cell_type": "code",
   "execution_count": 16,
   "id": "starting-million",
   "metadata": {},
   "outputs": [
    {
     "name": "stdout",
     "output_type": "stream",
     "text": [
      "M aei u uamd yfte aei uamdAa aa ' 0yasod\n"
     ]
    }
   ],
   "source": [
    "a = \"My name is Aun Muhammad. My father name is Muhammad Azam Raza. I'm 20 years old.\"\n",
    "print(a[0:90:2])"
   ]
  },
  {
   "cell_type": "code",
   "execution_count": 33,
   "id": "bearing-protocol",
   "metadata": {},
   "outputs": [
    {
     "name": "stdout",
     "output_type": "stream",
     "text": [
      ".dlo sraey 02 m'I .azaR mazA dammahuM si eman rehtaf yM .dammahuM nuA si eman yM\n"
     ]
    }
   ],
   "source": [
    "a = \"My name is Aun Muhammad. My father name is Muhammad Azam Raza. I'm 20 years old.\"\n",
    "print(a[80:-81:-1])"
   ]
  },
  {
   "cell_type": "code",
   "execution_count": null,
   "id": "following-indonesian",
   "metadata": {},
   "outputs": [],
   "source": []
  }
 ],
 "metadata": {
  "kernelspec": {
   "display_name": "Python 3",
   "language": "python",
   "name": "python3"
  },
  "language_info": {
   "codemirror_mode": {
    "name": "ipython",
    "version": 3
   },
   "file_extension": ".py",
   "mimetype": "text/x-python",
   "name": "python",
   "nbconvert_exporter": "python",
   "pygments_lexer": "ipython3",
   "version": "3.7.7"
  }
 },
 "nbformat": 4,
 "nbformat_minor": 5
}
