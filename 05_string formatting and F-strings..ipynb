{
 "cells": [
  {
   "cell_type": "code",
   "execution_count": 42,
   "id": "resistant-alcohol",
   "metadata": {},
   "outputs": [
    {
     "name": "stdout",
     "output_type": "stream",
     "text": [
      "My name is Aun Muhammad. \n",
      "I'm 20 years old. \n",
      "My course name is python.\n"
     ]
    }
   ],
   "source": [
    "FirstName = \"Aun\"\n",
    "SecondName = \"Muhammad\"\n",
    "Age = \"20\"\n",
    "Course = \"python\"\n",
    "print(\"My name is {} {}. \\nI'm {} years old. \\nMy course name is {}.\".format(FirstName, SecondName, Age, Course))"
   ]
  },
  {
   "cell_type": "code",
   "execution_count": 35,
   "id": "three-columbia",
   "metadata": {},
   "outputs": [
    {
     "name": "stdout",
     "output_type": "stream",
     "text": [
      "My name is Aun Muhammad. \n",
      "I'm 20 years old. \n",
      "My course name is python\n"
     ]
    }
   ],
   "source": [
    "FirstName = \"Aun\"\n",
    "SecondName = \"Muhammad\"\n",
    "Age = \"20\"\n",
    "Course = \"python\"\n",
    "print(f\"My name is {FirstName} {SecondName}. \\nI'm {Age} years old. \\nMy course name is {Course}\")"
   ]
  },
  {
   "cell_type": "code",
   "execution_count": null,
   "id": "current-thanksgiving",
   "metadata": {},
   "outputs": [],
   "source": []
  }
 ],
 "metadata": {
  "kernelspec": {
   "display_name": "Python 3",
   "language": "python",
   "name": "python3"
  },
  "language_info": {
   "codemirror_mode": {
    "name": "ipython",
    "version": 3
   },
   "file_extension": ".py",
   "mimetype": "text/x-python",
   "name": "python",
   "nbconvert_exporter": "python",
   "pygments_lexer": "ipython3",
   "version": "3.7.7"
  }
 },
 "nbformat": 4,
 "nbformat_minor": 5
}
