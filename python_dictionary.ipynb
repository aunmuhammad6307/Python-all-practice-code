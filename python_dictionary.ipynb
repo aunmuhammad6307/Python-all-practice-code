{
 "cells": [
  {
   "cell_type": "code",
   "execution_count": 9,
   "id": "endangered-eagle",
   "metadata": {},
   "outputs": [
    {
     "name": "stdout",
     "output_type": "stream",
     "text": [
      "program, programmer\n"
     ]
    }
   ],
   "source": [
    "ds = {\n",
    "    \"tech\": \"technology\",\n",
    "    \"subj\": \"Subject\",\n",
    "    \"prog\": \"program, programmer\",\n",
    "}\n",
    "print(ds[\"prog\"])"
   ]
  },
  {
   "cell_type": "code",
   "execution_count": 10,
   "id": "tribal-festival",
   "metadata": {},
   "outputs": [
    {
     "data": {
      "text/plain": [
       "{'tech': 'technology',\n",
       " 'subj': 'Subject',\n",
       " 'prog': 'program, programmer',\n",
       " 'Welcome': 'Python'}"
      ]
     },
     "execution_count": 10,
     "metadata": {},
     "output_type": "execute_result"
    }
   ],
   "source": [
    "ds[\"Welcome\"] = \"Python\"\n",
    "ds"
   ]
  },
  {
   "cell_type": "code",
   "execution_count": 11,
   "id": "collect-carry",
   "metadata": {},
   "outputs": [
    {
     "data": {
      "text/plain": [
       "{'tech': 'technology',\n",
       " 'subj': 'Subject',\n",
       " 'prog': 'program, programmer',\n",
       " 'Welcome': 'Welcome Python'}"
      ]
     },
     "execution_count": 11,
     "metadata": {},
     "output_type": "execute_result"
    }
   ],
   "source": [
    "ds[\"Welcome\"] = \"Welcome Python\"\n",
    "ds"
   ]
  },
  {
   "cell_type": "code",
   "execution_count": 12,
   "id": "complex-order",
   "metadata": {},
   "outputs": [
    {
     "data": {
      "text/plain": [
       "{'tech': 'technology',\n",
       " 'subj': 'Subject',\n",
       " 'prog': 'program, programmer',\n",
       " 'Welcome': 'Welcome Python',\n",
       " 'welcome': 'Welcome Python'}"
      ]
     },
     "execution_count": 12,
     "metadata": {},
     "output_type": "execute_result"
    }
   ],
   "source": [
    "ds[\"welcome\"] = \"Welcome Python\"\n",
    "ds"
   ]
  },
  {
   "cell_type": "code",
   "execution_count": 13,
   "id": "pointed-overview",
   "metadata": {},
   "outputs": [
    {
     "data": {
      "text/plain": [
       "{'tech': 'technology',\n",
       " 'subj': 'Subject',\n",
       " 'prog': 'program, programmer',\n",
       " 'Welcome': 'Welcome Python',\n",
       " 'welcome': 'Welcome Python',\n",
       " 'Key': 'Value'}"
      ]
     },
     "execution_count": 13,
     "metadata": {},
     "output_type": "execute_result"
    }
   ],
   "source": [
    "ds.update({\"Key\": \"Value\"})\n",
    "ds"
   ]
  },
  {
   "cell_type": "code",
   "execution_count": 17,
   "id": "touched-wright",
   "metadata": {},
   "outputs": [
    {
     "data": {
      "text/plain": [
       "'Value'"
      ]
     },
     "execution_count": 17,
     "metadata": {},
     "output_type": "execute_result"
    }
   ],
   "source": [
    "ds.pop(\"Key\")"
   ]
  },
  {
   "cell_type": "code",
   "execution_count": 18,
   "id": "ranging-tokyo",
   "metadata": {},
   "outputs": [
    {
     "data": {
      "text/plain": [
       "{'tech': 'technology',\n",
       " 'subj': 'Subject',\n",
       " 'prog': 'program, programmer',\n",
       " 'Welcome': 'Welcome Python',\n",
       " 'welcome': 'Welcome Python'}"
      ]
     },
     "execution_count": 18,
     "metadata": {},
     "output_type": "execute_result"
    }
   ],
   "source": [
    "ds"
   ]
  },
  {
   "cell_type": "code",
   "execution_count": 19,
   "id": "supported-baltimore",
   "metadata": {},
   "outputs": [
    {
     "data": {
      "text/plain": [
       "{'tech': 'technology',\n",
       " 'subj': 'Subject',\n",
       " 'prog': 'program, programmer',\n",
       " 'Welcome': 'Welcome Python'}"
      ]
     },
     "execution_count": 19,
     "metadata": {},
     "output_type": "execute_result"
    }
   ],
   "source": [
    "ds.popitem()\n",
    "ds"
   ]
  },
  {
   "cell_type": "code",
   "execution_count": 20,
   "id": "stupid-schema",
   "metadata": {},
   "outputs": [
    {
     "data": {
      "text/plain": [
       "dict_keys(['tech', 'subj', 'prog', 'Welcome'])"
      ]
     },
     "execution_count": 20,
     "metadata": {},
     "output_type": "execute_result"
    }
   ],
   "source": [
    "ds.keys()"
   ]
  },
  {
   "cell_type": "code",
   "execution_count": 21,
   "id": "killing-archives",
   "metadata": {},
   "outputs": [
    {
     "data": {
      "text/plain": [
       "dict_values(['technology', 'Subject', 'program, programmer', 'Welcome Python'])"
      ]
     },
     "execution_count": 21,
     "metadata": {},
     "output_type": "execute_result"
    }
   ],
   "source": [
    "ds.values()"
   ]
  },
  {
   "cell_type": "code",
   "execution_count": 25,
   "id": "single-burke",
   "metadata": {},
   "outputs": [],
   "source": [
    "dicts = {\n",
    "    \"Student1\": \"Arslan\",\n",
    "    \"Student2\": \"Arslan\",\n",
    "    \"Student3\": {\"name\": \"Sohail\", \"Subject\": \"Computer Science\"},\n",
    "}"
   ]
  },
  {
   "cell_type": "code",
   "execution_count": 28,
   "id": "organized-european",
   "metadata": {},
   "outputs": [
    {
     "data": {
      "text/plain": [
       "'Computer Science'"
      ]
     },
     "execution_count": 28,
     "metadata": {},
     "output_type": "execute_result"
    }
   ],
   "source": [
    "dicts[\"Student3\"][\"Subject\"]"
   ]
  },
  {
   "cell_type": "code",
   "execution_count": 29,
   "id": "corresponding-story",
   "metadata": {},
   "outputs": [
    {
     "data": {
      "text/plain": [
       "{'tech': 'technology',\n",
       " 'subj': 'Subject',\n",
       " 'prog': 'program, programmer',\n",
       " 'Welcome': 'Welcome Python'}"
      ]
     },
     "execution_count": 29,
     "metadata": {},
     "output_type": "execute_result"
    }
   ],
   "source": [
    "ds"
   ]
  },
  {
   "cell_type": "code",
   "execution_count": 31,
   "id": "collective-patio",
   "metadata": {},
   "outputs": [
    {
     "name": "stdout",
     "output_type": "stream",
     "text": [
      "dict_values(['technology', 'Subject', 'program, programmer', 'Welcome Python'])\n"
     ]
    }
   ],
   "source": [
    "x = ds.values()\n",
    "print(x)"
   ]
  },
  {
   "cell_type": "code",
   "execution_count": 32,
   "id": "sensitive-range",
   "metadata": {},
   "outputs": [],
   "source": [
    "z = ds.fromkeys(x, ds)"
   ]
  },
  {
   "cell_type": "code",
   "execution_count": 33,
   "id": "resident-sigma",
   "metadata": {},
   "outputs": [
    {
     "data": {
      "text/plain": [
       "{'technology': {'tech': 'technology',\n",
       "  'subj': 'Subject',\n",
       "  'prog': 'program, programmer',\n",
       "  'Welcome': 'Welcome Python'},\n",
       " 'Subject': {'tech': 'technology',\n",
       "  'subj': 'Subject',\n",
       "  'prog': 'program, programmer',\n",
       "  'Welcome': 'Welcome Python'},\n",
       " 'program, programmer': {'tech': 'technology',\n",
       "  'subj': 'Subject',\n",
       "  'prog': 'program, programmer',\n",
       "  'Welcome': 'Welcome Python'},\n",
       " 'Welcome Python': {'tech': 'technology',\n",
       "  'subj': 'Subject',\n",
       "  'prog': 'program, programmer',\n",
       "  'Welcome': 'Welcome Python'}}"
      ]
     },
     "execution_count": 33,
     "metadata": {},
     "output_type": "execute_result"
    }
   ],
   "source": [
    "z"
   ]
  }
 ],
 "metadata": {
  "kernelspec": {
   "display_name": "Python 3",
   "language": "python",
   "name": "python3"
  },
  "language_info": {
   "codemirror_mode": {
    "name": "ipython",
    "version": 3
   },
   "file_extension": ".py",
   "mimetype": "text/x-python",
   "name": "python",
   "nbconvert_exporter": "python",
   "pygments_lexer": "ipython3",
   "version": "3.7.7"
  }
 },
 "nbformat": 4,
 "nbformat_minor": 5
}
