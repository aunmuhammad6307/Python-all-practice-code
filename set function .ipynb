{
 "cells": [
  {
   "cell_type": "code",
   "execution_count": 4,
   "id": "suffering-advocate",
   "metadata": {},
   "outputs": [
    {
     "name": "stdout",
     "output_type": "stream",
     "text": [
      "<class 'set'>\n"
     ]
    }
   ],
   "source": [
    "myset = {\"key\"}\n",
    "print(type(myset))"
   ]
  },
  {
   "cell_type": "code",
   "execution_count": 5,
   "id": "described-isolation",
   "metadata": {},
   "outputs": [
    {
     "name": "stdout",
     "output_type": "stream",
     "text": [
      "{10, 123}\n"
     ]
    }
   ],
   "source": [
    "myset.add(10)\n",
    "print(myset)"
   ]
  },
  {
   "cell_type": "code",
   "execution_count": 6,
   "id": "referenced-suspension",
   "metadata": {},
   "outputs": [
    {
     "name": "stdout",
     "output_type": "stream",
     "text": [
      "{10, 123}\n"
     ]
    }
   ],
   "source": [
    "myset.add(10)\n",
    "print(myset)"
   ]
  },
  {
   "cell_type": "code",
   "execution_count": 7,
   "id": "explicit-participant",
   "metadata": {},
   "outputs": [
    {
     "name": "stdout",
     "output_type": "stream",
     "text": [
      "{123}\n"
     ]
    }
   ],
   "source": [
    "myset.pop()\n",
    "print(myset)"
   ]
  },
  {
   "cell_type": "code",
   "execution_count": 8,
   "id": "pediatric-crest",
   "metadata": {},
   "outputs": [],
   "source": [
    "newset = {1}"
   ]
  },
  {
   "cell_type": "code",
   "execution_count": 10,
   "id": "ongoing-value",
   "metadata": {},
   "outputs": [],
   "source": [
    "newset.add(2)\n",
    "newset.add(3)\n",
    "newset.add(4)\n",
    "newset.add(5)\n",
    "newset.add(6)\n",
    "newset.add(7)"
   ]
  },
  {
   "cell_type": "code",
   "execution_count": 11,
   "id": "married-rescue",
   "metadata": {},
   "outputs": [
    {
     "data": {
      "text/plain": [
       "{1, 2, 3, 4, 5, 6, 7}"
      ]
     },
     "execution_count": 11,
     "metadata": {},
     "output_type": "execute_result"
    }
   ],
   "source": [
    "newset"
   ]
  },
  {
   "cell_type": "code",
   "execution_count": 15,
   "id": "three-resident",
   "metadata": {},
   "outputs": [
    {
     "name": "stdout",
     "output_type": "stream",
     "text": [
      "4\n",
      "{5, 6, 7}\n"
     ]
    }
   ],
   "source": [
    "z = newset.pop()\n",
    "print(z)\n",
    "print(newset)"
   ]
  },
  {
   "cell_type": "code",
   "execution_count": 17,
   "id": "graphic-demonstration",
   "metadata": {},
   "outputs": [
    {
     "data": {
      "text/plain": [
       "{5, 7}"
      ]
     },
     "execution_count": 17,
     "metadata": {},
     "output_type": "execute_result"
    }
   ],
   "source": [
    "newset.remove(6)\n",
    "newset"
   ]
  },
  {
   "cell_type": "code",
   "execution_count": 19,
   "id": "alien-credits",
   "metadata": {},
   "outputs": [
    {
     "data": {
      "text/plain": [
       "{5}"
      ]
     },
     "execution_count": 19,
     "metadata": {},
     "output_type": "execute_result"
    }
   ],
   "source": [
    "newset.discard(7)\n",
    "newset"
   ]
  },
  {
   "cell_type": "code",
   "execution_count": 20,
   "id": "excessive-portrait",
   "metadata": {},
   "outputs": [],
   "source": [
    "newset.add(2)\n",
    "newset.add(3)\n",
    "newset.add(4)\n",
    "newset.add(5)\n",
    "newset.add(6)\n",
    "newset.add(7)"
   ]
  },
  {
   "cell_type": "code",
   "execution_count": 21,
   "id": "british-tampa",
   "metadata": {},
   "outputs": [
    {
     "data": {
      "text/plain": [
       "{2, 3, 4, 5, 6, 7}"
      ]
     },
     "execution_count": 21,
     "metadata": {},
     "output_type": "execute_result"
    }
   ],
   "source": [
    "newset"
   ]
  },
  {
   "cell_type": "code",
   "execution_count": 23,
   "id": "chemical-norway",
   "metadata": {},
   "outputs": [],
   "source": [
    "myset.pop()\n",
    "myset.add(\"Arslan\")\n",
    "myset.add(\"Umar\")\n",
    "myset.add(\"Sohail\")\n",
    "myset.add(\"Safeer\")\n",
    "myset.add(\"Aun\")"
   ]
  },
  {
   "cell_type": "code",
   "execution_count": 24,
   "id": "basic-wiring",
   "metadata": {},
   "outputs": [
    {
     "data": {
      "text/plain": [
       "{'Arslan', 'Aun', 'Safeer', 'Sohail', 'Umar'}"
      ]
     },
     "execution_count": 24,
     "metadata": {},
     "output_type": "execute_result"
    }
   ],
   "source": [
    "myset"
   ]
  },
  {
   "cell_type": "code",
   "execution_count": 26,
   "id": "tracked-theology",
   "metadata": {},
   "outputs": [
    {
     "data": {
      "text/plain": [
       "set"
      ]
     },
     "execution_count": 26,
     "metadata": {},
     "output_type": "execute_result"
    }
   ],
   "source": [
    "st = {}\n",
    "st = set(st)\n",
    "type(st)"
   ]
  },
  {
   "cell_type": "code",
   "execution_count": 32,
   "id": "ethical-spank",
   "metadata": {},
   "outputs": [],
   "source": [
    "st = newset.union(myset)"
   ]
  },
  {
   "cell_type": "code",
   "execution_count": 33,
   "id": "alternative-balance",
   "metadata": {
    "scrolled": true
   },
   "outputs": [
    {
     "name": "stdout",
     "output_type": "stream",
     "text": [
      "{2, 3, 4, 5, 6, 7, 'Arslan', 'Safeer', 'Sohail', 'Umar', 'Aun'}\n"
     ]
    }
   ],
   "source": [
    "print(st)"
   ]
  },
  {
   "cell_type": "code",
   "execution_count": 34,
   "id": "governmental-booth",
   "metadata": {},
   "outputs": [
    {
     "name": "stdout",
     "output_type": "stream",
     "text": [
      "2\n",
      "3\n",
      "4\n",
      "5\n",
      "6\n",
      "7\n",
      "Arslan\n",
      "Safeer\n",
      "Sohail\n",
      "Umar\n",
      "Aun\n"
     ]
    }
   ],
   "source": [
    "for x in st:\n",
    "    print(x)"
   ]
  }
 ],
 "metadata": {
  "kernelspec": {
   "display_name": "Python 3",
   "language": "python",
   "name": "python3"
  },
  "language_info": {
   "codemirror_mode": {
    "name": "ipython",
    "version": 3
   },
   "file_extension": ".py",
   "mimetype": "text/x-python",
   "name": "python",
   "nbconvert_exporter": "python",
   "pygments_lexer": "ipython3",
   "version": "3.7.7"
  }
 },
 "nbformat": 4,
 "nbformat_minor": 5
}
