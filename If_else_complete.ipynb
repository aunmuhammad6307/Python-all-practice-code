{
 "cells": [
  {
   "cell_type": "markdown",
   "id": "serious-defeat",
   "metadata": {},
   "source": [
    "# IF ELSE IN PYTHON"
   ]
  },
  {
   "cell_type": "code",
   "execution_count": 2,
   "id": "efficient-oakland",
   "metadata": {},
   "outputs": [
    {
     "name": "stdout",
     "output_type": "stream",
     "text": [
      "EXE\n"
     ]
    }
   ],
   "source": [
    "if 12>5:\n",
    "    print(\"EXE\")"
   ]
  },
  {
   "cell_type": "code",
   "execution_count": 7,
   "id": "danish-october",
   "metadata": {},
   "outputs": [
    {
     "name": "stdout",
     "output_type": "stream",
     "text": [
      "You Are Eligibal\n"
     ]
    }
   ],
   "source": [
    "age = 25\n",
    "if age>18:\n",
    "    print(\"You Are Eligibal\")"
   ]
  },
  {
   "cell_type": "code",
   "execution_count": 13,
   "id": "spatial-bible",
   "metadata": {},
   "outputs": [
    {
     "name": "stdout",
     "output_type": "stream",
     "text": [
      "You are eligibal\n"
     ]
    }
   ],
   "source": [
    "if age>18:\n",
    "    print(\"You are eligibal\")\n",
    "else:\n",
    "    print(\"You are not eligibal\")"
   ]
  },
  {
   "cell_type": "code",
   "execution_count": 21,
   "id": "inside-philip",
   "metadata": {},
   "outputs": [
    {
     "name": "stdout",
     "output_type": "stream",
     "text": [
      "Please enter your marks!\t5000000\n",
      "Sorry! you are Fail Needs improvement \n",
      "We see you next year!\n"
     ]
    }
   ],
   "source": [
    "marks = int(input(\"Please enter your marks!\\t\"))\n",
    "if marks >= 50:\n",
    "    print(\"Congratulations! You are Pass \\nWe see you next year!\")\n",
    "else:\n",
    "    print(\"Sorry! you are Fail Needs improvement \\nWe see you next year!\")"
   ]
  },
  {
   "cell_type": "code",
   "execution_count": 28,
   "id": "intensive-ambassador",
   "metadata": {},
   "outputs": [
    {
     "name": "stdout",
     "output_type": "stream",
     "text": [
      "Please enter your marks!\t254145\n",
      "Warrning! You have entered wrong marks enter correct marks!\n"
     ]
    }
   ],
   "source": [
    "marks = int(input(\"Please enter your marks!\\t\"))\n",
    "if marks <= 1 or marks >= 100: \n",
    "    print(\"Warrning! You have entered wrong marks enter correct marks!\")\n",
    "elif marks >= 50 and marks <= 100:\n",
    "    print(\"Congratulations! You are Pass \\nWe see you next year!\")\n",
    "else:\n",
    "    print(\"Sorry! you are Fail Needs improvement \\nWe see you next year!\")"
   ]
  }
 ],
 "metadata": {
  "kernelspec": {
   "display_name": "Python 3",
   "language": "python",
   "name": "python3"
  },
  "language_info": {
   "codemirror_mode": {
    "name": "ipython",
    "version": 3
   },
   "file_extension": ".py",
   "mimetype": "text/x-python",
   "name": "python",
   "nbconvert_exporter": "python",
   "pygments_lexer": "ipython3",
   "version": "3.7.7"
  }
 },
 "nbformat": 4,
 "nbformat_minor": 5
}
