{
 "cells": [
  {
   "cell_type": "markdown",
   "id": "powered-fighter",
   "metadata": {},
   "source": [
    "# Python List or Array"
   ]
  },
  {
   "cell_type": "code",
   "execution_count": 22,
   "id": "intelligent-vaccine",
   "metadata": {},
   "outputs": [
    {
     "name": "stdout",
     "output_type": "stream",
     "text": [
      "<class 'list'>\n",
      "[1, 2, 3, 'Hello']\n"
     ]
    }
   ],
   "source": [
    "ls = [1, 2, 3, \"Hello\"]\n",
    "print(type(ls))\n",
    "print(ls)"
   ]
  },
  {
   "cell_type": "code",
   "execution_count": 23,
   "id": "critical-eight",
   "metadata": {
    "scrolled": true
   },
   "outputs": [
    {
     "name": "stdout",
     "output_type": "stream",
     "text": [
      "3\n",
      "Hello\n"
     ]
    }
   ],
   "source": [
    "print(ls[2]) #indexing\n",
    "print(ls[-1])"
   ]
  },
  {
   "cell_type": "code",
   "execution_count": 26,
   "id": "acknowledged-beatles",
   "metadata": {},
   "outputs": [
    {
     "name": "stdout",
     "output_type": "stream",
     "text": [
      "[1, 'Hello']\n"
     ]
    }
   ],
   "source": [
    "print(ls[::3])"
   ]
  },
  {
   "cell_type": "code",
   "execution_count": 27,
   "id": "virtual-window",
   "metadata": {},
   "outputs": [
    {
     "name": "stdout",
     "output_type": "stream",
     "text": [
      "[1, 2, 3, 'Hello']\n",
      "[1, 2, 3, 'Hello', 'New Item']\n"
     ]
    }
   ],
   "source": [
    "print(ls)\n",
    "ls.append(\"New Item\")\n",
    "print(ls)"
   ]
  },
  {
   "cell_type": "code",
   "execution_count": 31,
   "id": "superb-illustration",
   "metadata": {},
   "outputs": [],
   "source": [
    "grocery = [\"Apple\", \"Banana\", \"Orange\"]\n",
    "grocery.insert(1, \"graps\")"
   ]
  },
  {
   "cell_type": "code",
   "execution_count": 32,
   "id": "stock-riding",
   "metadata": {},
   "outputs": [
    {
     "name": "stdout",
     "output_type": "stream",
     "text": [
      "['Apple', 'graps', 'Banana', 'Orange']\n"
     ]
    }
   ],
   "source": [
    "print(grocery)"
   ]
  },
  {
   "cell_type": "code",
   "execution_count": 36,
   "id": "executed-jonathan",
   "metadata": {},
   "outputs": [
    {
     "name": "stdout",
     "output_type": "stream",
     "text": [
      "['Apple', 'Orange']\n"
     ]
    }
   ],
   "source": [
    "grocery.remove(\"Banana\")\n",
    "print(grocery)"
   ]
  },
  {
   "cell_type": "code",
   "execution_count": 37,
   "id": "bronze-draft",
   "metadata": {},
   "outputs": [
    {
     "name": "stdout",
     "output_type": "stream",
     "text": [
      "['Apple', 'Orange']\n",
      "['Apple']\n"
     ]
    }
   ],
   "source": [
    "print(grocery)\n",
    "grocery.pop()\n",
    "print(grocery)"
   ]
  },
  {
   "cell_type": "code",
   "execution_count": 39,
   "id": "white-cuisine",
   "metadata": {},
   "outputs": [
    {
     "name": "stdout",
     "output_type": "stream",
     "text": [
      "[1, 2, 3, 'New Item']\n"
     ]
    }
   ],
   "source": [
    "ls.remove(\"Hello\")\n",
    "print(ls)"
   ]
  },
  {
   "cell_type": "code",
   "execution_count": 40,
   "id": "pleasant-failure",
   "metadata": {},
   "outputs": [
    {
     "name": "stdout",
     "output_type": "stream",
     "text": [
      "[1, 2, 3]\n"
     ]
    }
   ],
   "source": [
    "ls.pop()\n",
    "print(ls)"
   ]
  },
  {
   "cell_type": "code",
   "execution_count": 43,
   "id": "clean-light",
   "metadata": {},
   "outputs": [
    {
     "name": "stdout",
     "output_type": "stream",
     "text": [
      "[1, 2, 3]\n"
     ]
    }
   ],
   "source": [
    "ls2 = ls\n",
    "print(ls)"
   ]
  },
  {
   "cell_type": "code",
   "execution_count": 46,
   "id": "available-cemetery",
   "metadata": {},
   "outputs": [
    {
     "name": "stdout",
     "output_type": "stream",
     "text": [
      "[]\n",
      "[]\n"
     ]
    }
   ],
   "source": [
    "ls2.pop()\n",
    "print(ls2)\n",
    "print(ls)"
   ]
  },
  {
   "cell_type": "code",
   "execution_count": 47,
   "id": "consolidated-blues",
   "metadata": {},
   "outputs": [
    {
     "name": "stdout",
     "output_type": "stream",
     "text": [
      "<class 'list'>\n"
     ]
    }
   ],
   "source": [
    "print(type(ls2))"
   ]
  },
  {
   "cell_type": "code",
   "execution_count": 51,
   "id": "breathing-nothing",
   "metadata": {},
   "outputs": [],
   "source": [
    "ls.append(\"Aun\")"
   ]
  },
  {
   "cell_type": "code",
   "execution_count": 52,
   "id": "copyrighted-corps",
   "metadata": {},
   "outputs": [
    {
     "data": {
      "text/plain": [
       "['Uzair', 'Sohail', 'Safeer', 'Aun']"
      ]
     },
     "execution_count": 52,
     "metadata": {},
     "output_type": "execute_result"
    }
   ],
   "source": [
    "ls"
   ]
  },
  {
   "cell_type": "code",
   "execution_count": 53,
   "id": "intellectual-outdoors",
   "metadata": {},
   "outputs": [
    {
     "data": {
      "text/plain": [
       "['Uzair', 'Sohail', 'Safeer', 'Aun']"
      ]
     },
     "execution_count": 53,
     "metadata": {},
     "output_type": "execute_result"
    }
   ],
   "source": [
    "ls2"
   ]
  },
  {
   "cell_type": "code",
   "execution_count": 55,
   "id": "conservative-hamburg",
   "metadata": {},
   "outputs": [
    {
     "data": {
      "text/plain": [
       "['Uzair', 'Sohail', 'Safeer', 'Aun']"
      ]
     },
     "execution_count": 55,
     "metadata": {},
     "output_type": "execute_result"
    }
   ],
   "source": [
    "lst = ['Uzair', 'Sohail', 'Safeer', 'Aun']\n",
    "lst2 = lst.copy()\n",
    "lst2"
   ]
  },
  {
   "cell_type": "code",
   "execution_count": 57,
   "id": "applied-serum",
   "metadata": {},
   "outputs": [
    {
     "name": "stdout",
     "output_type": "stream",
     "text": [
      "['Uzair', 'Sohail', 'Safeer', 'Aun']\n",
      "['Uzair', 'Sohail', 'Safeer']\n"
     ]
    }
   ],
   "source": [
    "lst2.pop()\n",
    "print(lst)\n",
    "print(lst2)"
   ]
  },
  {
   "cell_type": "code",
   "execution_count": 58,
   "id": "printable-opera",
   "metadata": {},
   "outputs": [
    {
     "name": "stdout",
     "output_type": "stream",
     "text": [
      "['Uzair', 'Sohail', 'Safeer']\n",
      "[]\n"
     ]
    }
   ],
   "source": [
    "print(lst2)\n",
    "lst2.clear()\n",
    "print(lst2)"
   ]
  },
  {
   "cell_type": "code",
   "execution_count": 60,
   "id": "permanent-negotiation",
   "metadata": {},
   "outputs": [],
   "source": [
    "lst.append(\"Anu\")"
   ]
  },
  {
   "cell_type": "code",
   "execution_count": 62,
   "id": "present-charter",
   "metadata": {},
   "outputs": [
    {
     "data": {
      "text/plain": [
       "'Anu'"
      ]
     },
     "execution_count": 62,
     "metadata": {},
     "output_type": "execute_result"
    }
   ],
   "source": [
    "lst.pop()"
   ]
  },
  {
   "cell_type": "code",
   "execution_count": 63,
   "id": "attached-delta",
   "metadata": {},
   "outputs": [],
   "source": [
    "lst.append(\"Aun\")"
   ]
  },
  {
   "cell_type": "code",
   "execution_count": 67,
   "id": "smoking-garbage",
   "metadata": {},
   "outputs": [
    {
     "name": "stdout",
     "output_type": "stream",
     "text": [
      "['Uzair', 'Sohail', 'Safeer', 'Aun', 'Aun']\n"
     ]
    },
    {
     "data": {
      "text/plain": [
       "1"
      ]
     },
     "execution_count": 67,
     "metadata": {},
     "output_type": "execute_result"
    }
   ],
   "source": [
    "print(lst)\n",
    "lst.count(\"Safeer\")"
   ]
  },
  {
   "cell_type": "code",
   "execution_count": 68,
   "id": "hollow-literature",
   "metadata": {},
   "outputs": [
    {
     "data": {
      "text/plain": [
       "[]"
      ]
     },
     "execution_count": 68,
     "metadata": {},
     "output_type": "execute_result"
    }
   ],
   "source": [
    "lst2"
   ]
  },
  {
   "cell_type": "code",
   "execution_count": 69,
   "id": "technological-particle",
   "metadata": {},
   "outputs": [],
   "source": [
    "x = [1,2,3]\n",
    "y = [4,5,6]"
   ]
  },
  {
   "cell_type": "code",
   "execution_count": 70,
   "id": "happy-jewel",
   "metadata": {},
   "outputs": [
    {
     "name": "stdout",
     "output_type": "stream",
     "text": [
      "[1, 2, 3, 4, 5, 6]\n"
     ]
    }
   ],
   "source": [
    "x.extend(y)\n",
    "print(x)"
   ]
  },
  {
   "cell_type": "code",
   "execution_count": 71,
   "id": "attractive-concern",
   "metadata": {},
   "outputs": [],
   "source": [
    "y.extend(x)"
   ]
  },
  {
   "cell_type": "code",
   "execution_count": 72,
   "id": "ready-reason",
   "metadata": {},
   "outputs": [
    {
     "data": {
      "text/plain": [
       "[4, 5, 6, 1, 2, 3, 4, 5, 6]"
      ]
     },
     "execution_count": 72,
     "metadata": {},
     "output_type": "execute_result"
    }
   ],
   "source": [
    "y"
   ]
  },
  {
   "cell_type": "code",
   "execution_count": 73,
   "id": "norwegian-porter",
   "metadata": {},
   "outputs": [
    {
     "data": {
      "text/plain": [
       "1"
      ]
     },
     "execution_count": 73,
     "metadata": {},
     "output_type": "execute_result"
    }
   ],
   "source": [
    "y.index(5)"
   ]
  },
  {
   "cell_type": "code",
   "execution_count": 75,
   "id": "written-married",
   "metadata": {},
   "outputs": [
    {
     "data": {
      "text/plain": [
       "[6, 5, 4, 3, 2, 1, 6, 5, 4]"
      ]
     },
     "execution_count": 75,
     "metadata": {},
     "output_type": "execute_result"
    }
   ],
   "source": [
    "y[::-1]"
   ]
  },
  {
   "cell_type": "code",
   "execution_count": 78,
   "id": "numerical-grace",
   "metadata": {},
   "outputs": [
    {
     "name": "stdout",
     "output_type": "stream",
     "text": [
      "[4, 5, 6, 1, 2, 3, 4, 5, 6]\n",
      "[12, 5, 6, 1, 2, 3, 4, 5, 6]\n"
     ]
    }
   ],
   "source": [
    "print(y)\n",
    "y[0] = 12\n",
    "print(y)"
   ]
  }
 ],
 "metadata": {
  "kernelspec": {
   "display_name": "Python 3",
   "language": "python",
   "name": "python3"
  },
  "language_info": {
   "codemirror_mode": {
    "name": "ipython",
    "version": 3
   },
   "file_extension": ".py",
   "mimetype": "text/x-python",
   "name": "python",
   "nbconvert_exporter": "python",
   "pygments_lexer": "ipython3",
   "version": "3.7.7"
  }
 },
 "nbformat": 4,
 "nbformat_minor": 5
}
