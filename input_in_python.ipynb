{
 "cells": [
  {
   "cell_type": "markdown",
   "id": "continental-local",
   "metadata": {},
   "source": [
    "# INPUT FUNCTION IN PYTHON \n",
    "\n",
    "**Lets Start**"
   ]
  },
  {
   "cell_type": "code",
   "execution_count": 5,
   "id": "native-saturday",
   "metadata": {},
   "outputs": [
    {
     "name": "stdout",
     "output_type": "stream",
     "text": [
      "Please enter a number!10\n",
      "105\n"
     ]
    },
    {
     "data": {
      "text/plain": [
       "'10'"
      ]
     },
     "execution_count": 5,
     "metadata": {},
     "output_type": "execute_result"
    }
   ],
   "source": [
    "a = input(\"Please enter a number!\")\n",
    "print(a+'5')\n",
    "a"
   ]
  },
  {
   "cell_type": "code",
   "execution_count": null,
   "id": "bronze-casino",
   "metadata": {},
   "outputs": [],
   "source": []
  },
  {
   "cell_type": "code",
   "execution_count": 8,
   "id": "instant-fantasy",
   "metadata": {},
   "outputs": [
    {
     "name": "stdout",
     "output_type": "stream",
     "text": [
      "15\n",
      "<class 'str'>\n"
     ]
    }
   ],
   "source": [
    "print(int(a)+5)\n",
    "a\n",
    "print(type(a))"
   ]
  },
  {
   "cell_type": "code",
   "execution_count": 12,
   "id": "dominican-aside",
   "metadata": {},
   "outputs": [
    {
     "name": "stdout",
     "output_type": "stream",
     "text": [
      "Please enter a number!10\n"
     ]
    }
   ],
   "source": [
    "b = float(input(\"Please enter a number!\"))"
   ]
  },
  {
   "cell_type": "code",
   "execution_count": 11,
   "id": "divided-april",
   "metadata": {},
   "outputs": [
    {
     "data": {
      "text/plain": [
       "20"
      ]
     },
     "execution_count": 11,
     "metadata": {},
     "output_type": "execute_result"
    }
   ],
   "source": [
    "b+10"
   ]
  },
  {
   "cell_type": "code",
   "execution_count": 16,
   "id": "extensive-unemployment",
   "metadata": {},
   "outputs": [
    {
     "name": "stdout",
     "output_type": "stream",
     "text": [
      "Please enter any number!pak\n",
      "Please enter any number!14\n",
      "Please enter any number!12.2\n",
      "<class 'str'>\n",
      "<class 'int'>\n",
      "<class 'float'>\n"
     ]
    }
   ],
   "source": [
    "x = input(\"Please enter any number!\")\n",
    "y = int(input(\"Please enter any number!\"))\n",
    "z = float(input(\"Please enter any number!\"))\n",
    "\n",
    "print(type(x))\n",
    "print(type(y))\n",
    "print(type(z))"
   ]
  },
  {
   "cell_type": "code",
   "execution_count": 21,
   "id": "beautiful-electron",
   "metadata": {},
   "outputs": [
    {
     "name": "stdout",
     "output_type": "stream",
     "text": [
      "Please enter any number!12.5\n"
     ]
    }
   ],
   "source": [
    "c = float(input(\"Please enter any number!\"))\n",
    "\n"
   ]
  },
  {
   "cell_type": "code",
   "execution_count": 23,
   "id": "biblical-preference",
   "metadata": {},
   "outputs": [
    {
     "name": "stdout",
     "output_type": "stream",
     "text": [
      "12\n",
      "Before Type Casting!\n",
      "<class 'int'>\n",
      "After Type Casting!\n",
      "<class 'int'>\n",
      "12\n"
     ]
    }
   ],
   "source": [
    "print(c)\n",
    "print(\"Before Type Casting!\")\n",
    "print(type(c))\n",
    "c = int(c)\n",
    "print(\"After Type Casting!\")\n",
    "print(type(c))\n",
    "print(c)"
   ]
  },
  {
   "cell_type": "code",
   "execution_count": null,
   "id": "cutting-hands",
   "metadata": {},
   "outputs": [],
   "source": []
  }
 ],
 "metadata": {
  "kernelspec": {
   "display_name": "Python 3",
   "language": "python",
   "name": "python3"
  },
  "language_info": {
   "codemirror_mode": {
    "name": "ipython",
    "version": 3
   },
   "file_extension": ".py",
   "mimetype": "text/x-python",
   "name": "python",
   "nbconvert_exporter": "python",
   "pygments_lexer": "ipython3",
   "version": "3.7.7"
  }
 },
 "nbformat": 4,
 "nbformat_minor": 5
}
